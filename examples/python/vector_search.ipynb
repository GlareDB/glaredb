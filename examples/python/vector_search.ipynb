{
 "cells": [
  {
   "cell_type": "code",
   "execution_count": 2,
   "metadata": {},
   "outputs": [],
   "source": [
    "import glaredb\n",
    "import polars as pl\n",
    "import numpy as np\n",
    "import os\n"
   ]
  },
  {
   "cell_type": "code",
   "execution_count": null,
   "metadata": {},
   "outputs": [],
   "source": [
    "OPENAI_API_KEY = os.environ.get(\"OPENAI_API_KEY\")\n",
    "\n",
    "\n",
    "con = glaredb.connect(\"./db\")\n",
    "con.execute(f\"create credential openai_creds provider openai OPTIONS (api_key = '{OPENAI_API_KEY}');\") \n",
    "con.execute(\"\"\"\n",
    "    CREATE TABLE embedded_functions as (\n",
    "        SELECT\n",
    "            openai_embed(@creds.openai.openai_creds, 'text-embedding-3-small', concat_ws(';', function_name, example, description)) as embeddings, \n",
    "            * \n",
    "        FROM glare_catalog.functions\n",
    "    );\n",
    "\"\"\")\n",
    "res = con.sql(\"SELECT * FROM embedded_functions\").to_polars()\n",
    "\n",
    "res"
   ]
  },
  {
   "cell_type": "code",
   "execution_count": null,
   "metadata": {},
   "outputs": [],
   "source": [
    "res = con.sql(\"\"\"\n",
    "  SELECT cosine_similarity(\n",
    "  openai_embed(\n",
    "    @creds.openai.openai_creds, \n",
    "    'text-embedding-3-small', \n",
    "    'functions that work on string datatypes'\n",
    "  ),\n",
    "  embeddings\n",
    ") \n",
    "FROM embedded_functions;\n",
    "\"\"\").to_polars()"
   ]
  }
 ],
 "metadata": {
  "kernelspec": {
   "display_name": ".venv",
   "language": "python",
   "name": "python3"
  },
  "language_info": {
   "codemirror_mode": {
    "name": "ipython",
    "version": 3
   },
   "file_extension": ".py",
   "mimetype": "text/x-python",
   "name": "python",
   "nbconvert_exporter": "python",
   "pygments_lexer": "ipython3",
   "version": "3.11.4"
  }
 },
 "nbformat": 4,
 "nbformat_minor": 2
}
