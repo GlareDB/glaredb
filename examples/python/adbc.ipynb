{
 "cells": [
  {
   "cell_type": "code",
   "execution_count": null,
   "metadata": {},
   "outputs": [],
   "source": [
    "%pip install adbc_driver_flightsql"
   ]
  },
  {
   "cell_type": "markdown",
   "metadata": {},
   "source": [
    "### Start your server with flight-api enabled\n",
    "```sh\n",
    "./glaredb server --enable-flight-api\n",
    "```"
   ]
  },
  {
   "cell_type": "code",
   "execution_count": null,
   "metadata": {},
   "outputs": [],
   "source": [
    "from adbc_driver_flightsql import DatabaseOptions\n",
    "from adbc_driver_flightsql.dbapi import connect\n",
    "import os\n",
    "import base64"
   ]
  },
  {
   "cell_type": "markdown",
   "metadata": {},
   "source": [
    "### Now we can connect using the adbc flightsql driver"
   ]
  },
  {
   "cell_type": "code",
   "execution_count": null,
   "metadata": {},
   "outputs": [],
   "source": [
    "with connect(\"grpc://0.0.0.0:6443\") as conn:\n",
    "    cursor = conn.cursor()\n",
    "\n",
    "    cursor.execute(\"\"\"SELECT 'Hello World'\"\"\")\n",
    "\n",
    "    res = cursor.fetchall()\n",
    "\n",
    "    print(res)\n",
    "    cursor.close() "
   ]
  }
 ],
 "metadata": {
  "kernelspec": {
   "display_name": ".venv",
   "language": "python",
   "name": "python3"
  },
  "language_info": {
   "codemirror_mode": {
    "name": "ipython",
    "version": 3
   },
   "file_extension": ".py",
   "mimetype": "text/x-python",
   "name": "python",
   "nbconvert_exporter": "python",
   "pygments_lexer": "ipython3",
   "version": "3.11.4"
  }
 },
 "nbformat": 4,
 "nbformat_minor": 2
}
